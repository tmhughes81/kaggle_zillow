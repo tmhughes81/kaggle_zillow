{
 "cells": [
  {
   "cell_type": "code",
   "execution_count": null,
   "metadata": {
    "collapsed": false
   },
   "outputs": [],
   "source": [
    "import pandas as pd\n",
    "\n",
    "properties_csv = pd.read_csv(\"/Users/thughes/tmp/properties_2016.csv\", low_memory=False)\n",
    "train_csv = pd.read_csv(\"/Users/thughes/tmp/train_2016_v2.csv\", low_memory=False)"
   ]
  },
  {
   "cell_type": "code",
   "execution_count": null,
   "metadata": {
    "collapsed": false
   },
   "outputs": [],
   "source": [
    "from datetime import datetime\n",
    "\n",
    "train_csv['month'] = train_csv['transactiondate'].map(lambda x: datetime.strptime(x, '%Y-%m-%d').month)"
   ]
  },
  {
   "cell_type": "code",
   "execution_count": null,
   "metadata": {
    "collapsed": false
   },
   "outputs": [],
   "source": [
    "for mon in range (1, 13):\n",
    "    train_csv['2016'+str(mon)] = train_csv[train_csv['month'] == mon]['logerror']\n"
   ]
  },
  {
   "cell_type": "code",
   "execution_count": null,
   "metadata": {
    "collapsed": false
   },
   "outputs": [],
   "source": [
    "train_csv = train_csv.drop(['logerror', 'month'], axis=1)"
   ]
  },
  {
   "cell_type": "code",
   "execution_count": null,
   "metadata": {
    "collapsed": false
   },
   "outputs": [],
   "source": [
    "train_csv = train_csv.groupby('parcelid').first()"
   ]
  },
  {
   "cell_type": "code",
   "execution_count": null,
   "metadata": {
    "collapsed": true
   },
   "outputs": [],
   "source": [
    "train_csv = train_csv.drop(\"transactiondate\", axis=1)"
   ]
  },
  {
   "cell_type": "code",
   "execution_count": null,
   "metadata": {
    "collapsed": false
   },
   "outputs": [],
   "source": [
    "df = properties_csv.join(train_csv, on=\"parcelid\")"
   ]
  },
  {
   "cell_type": "code",
   "execution_count": null,
   "metadata": {
    "collapsed": false
   },
   "outputs": [],
   "source": [
    "df = pd.get_dummies(df, columns=[\"hashottuborspa\", \"propertycountylandusecode\", \"propertyzoningdesc\", \n",
    "              \"fireplaceflag\", \"taxdelinquencyflag\"])\n"
   ]
  },
  {
   "cell_type": "code",
   "execution_count": null,
   "metadata": {
    "collapsed": true
   },
   "outputs": [],
   "source": [
    "df10 = df.dropna(subset=['201610'])\n",
    "df11 = df.dropna(subset=['201611'])\n",
    "df12 = df.dropna(subset=['201612'])"
   ]
  },
  {
   "cell_type": "code",
   "execution_count": null,
   "metadata": {
    "collapsed": false
   },
   "outputs": [],
   "source": [
    "from sklearn.model_selection import train_test_split\n",
    "\n",
    "X10_train, X10_test, y10_train, y10_test = train_test_split(df10.drop(['201610', '201611', '201612'], axis=1), df10['201610'], test_size=0.2)\n",
    "X11_train, X11_test, y11_train, y11_test = train_test_split(df11.drop(['201611', '201612'], axis=1), df10['201611'], test_size=0.2)\n",
    "X12_train, X12_test, y12_train, y12_test = train_test_split(df12.drop(['201612'], axis=1), df12['201612'], test_size=0.2)"
   ]
  },
  {
   "cell_type": "code",
   "execution_count": null,
   "metadata": {
    "collapsed": false
   },
   "outputs": [],
   "source": [
    "from xgboost import XGBRegressor\n",
    "\n",
    "reg10 = XGBRegressor()\n",
    "reg11 = XGBRegressor()\n",
    "reg12 = XGBRegressor()\n",
    "\n",
    "reg10.fit(X10_train, y10_train)\n",
    "reg11.fit(X11_train, y11_train)\n",
    "reg12.fit(X12_train, y12_train)"
   ]
  },
  {
   "cell_type": "code",
   "execution_count": null,
   "metadata": {
    "collapsed": true
   },
   "outputs": [],
   "source": [
    "preds10 = reg10.predict(df)\n",
    "preds11 = reg11.predict(df)\n",
    "preds12 = reg12.predict(df)"
   ]
  },
  {
   "cell_type": "code",
   "execution_count": null,
   "metadata": {
    "collapsed": false
   },
   "outputs": [],
   "source": [
    "from sklearn.metrics import mean_squared_error\n",
    "\n",
    "#mean_squared_error(preds, y_test)"
   ]
  },
  {
   "cell_type": "code",
   "execution_count": null,
   "metadata": {
    "collapsed": false
   },
   "outputs": [],
   "source": [
    "final = pd.DataFrame()\n",
    "final['parcelid'] = properties_csv['parcelid']\n",
    "final['201610'] = preds10\n",
    "final['201710'] = preds10\n",
    "final['201611'] = preds11\n",
    "final['201711'] = preds11\n",
    "final['201712'] = preds12\n",
    "final['201612'] = preds12"
   ]
  },
  {
   "cell_type": "code",
   "execution_count": null,
   "metadata": {
    "collapsed": true
   },
   "outputs": [],
   "source": [
    "final.write_csv(\"submit.csv\", header=True)"
   ]
  }
 ],
 "metadata": {
  "kernelspec": {
   "display_name": "Python 2",
   "language": "python",
   "name": "python2"
  },
  "language_info": {
   "codemirror_mode": {
    "name": "ipython",
    "version": 2
   },
   "file_extension": ".py",
   "mimetype": "text/x-python",
   "name": "python",
   "nbconvert_exporter": "python",
   "pygments_lexer": "ipython2",
   "version": "2.7.12"
  }
 },
 "nbformat": 4,
 "nbformat_minor": 2
}
